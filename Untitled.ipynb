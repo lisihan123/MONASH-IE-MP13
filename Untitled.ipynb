{
 "cells": [
  {
   "cell_type": "markdown",
   "metadata": {},
   "source": [
    "有家蛋糕店 一天计划生产 n个蛋糕 ， \n",
    "m是已接做好的蛋糕数量 \n",
    "\n",
    "一个人准备买蛋糕\n",
    "- [ ] 买的蛋糕的如果最重最轻的值是 a 和 b a和b可以是最轻和最重 也可以是 最重或者是最轻\n",
    "\n",
    "第一行输入 n m a b\n",
    "第二行输入 m个value 是蛋糕的重量\n",
    "\n",
    "要求输出 如果最重最轻的值是 a 和b 输出 yes 否则输出 no"
   ]
  },
  {
   "cell_type": "code",
   "execution_count": 3,
   "metadata": {},
   "outputs": [
    {
     "name": "stdout",
     "output_type": "stream",
     "text": [
      "put n, m, a, b here2, 3, 4, 5\n"
     ]
    }
   ],
   "source": [
    "inputhere = input (\"put n, m, a, b here\")"
   ]
  },
  {
   "cell_type": "code",
   "execution_count": 5,
   "metadata": {},
   "outputs": [],
   "source": [
    "unlist = inputhere.split(',')"
   ]
  },
  {
   "cell_type": "code",
   "execution_count": 6,
   "metadata": {},
   "outputs": [
    {
     "data": {
      "text/plain": [
       "['2', ' 3', ' 4', ' 5']"
      ]
     },
     "execution_count": 6,
     "metadata": {},
     "output_type": "execute_result"
    }
   ],
   "source": []
  },
  {
   "cell_type": "code",
   "execution_count": null,
   "metadata": {},
   "outputs": [],
   "source": []
  }
 ],
 "metadata": {
  "kernelspec": {
   "display_name": "Python 3",
   "language": "python",
   "name": "python3"
  },
  "language_info": {
   "codemirror_mode": {
    "name": "ipython",
    "version": 3
   },
   "file_extension": ".py",
   "mimetype": "text/x-python",
   "name": "python",
   "nbconvert_exporter": "python",
   "pygments_lexer": "ipython3",
   "version": "3.7.7"
  }
 },
 "nbformat": 4,
 "nbformat_minor": 4
}
